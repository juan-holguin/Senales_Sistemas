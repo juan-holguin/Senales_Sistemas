{
  "nbformat": 4,
  "nbformat_minor": 0,
  "metadata": {
    "colab": {
      "provenance": [],
      "authorship_tag": "ABX9TyPzTkFm77HRB1hhJn8kMuoP",
      "include_colab_link": true
    },
    "kernelspec": {
      "name": "python3",
      "display_name": "Python 3"
    },
    "language_info": {
      "name": "python"
    }
  },
  "cells": [
    {
      "cell_type": "markdown",
      "metadata": {
        "id": "view-in-github",
        "colab_type": "text"
      },
      "source": [
        "<a href=\"https://colab.research.google.com/github/juan-holguin/Senales_Sistemas/blob/main/Parciales/Parcial2_SyS_2024_2.ipynb\" target=\"_parent\"><img src=\"https://colab.research.google.com/assets/colab-badge.svg\" alt=\"Open In Colab\"/></a>"
      ]
    },
    {
      "cell_type": "markdown",
      "source": [
        "Solucion primer punto\n",
        "\n",
        "se tiene la señal:\n",
        "$$x(t) = {|A cos(2πf_ot)|^2}  t ∈ [\\frac{-1}{2f_o},\\frac{1}{2f_o}] $$\n",
        "\n",
        "expresion del espectro de fourier (exponencial y trigonometrica\n",
        ")"
      ],
      "metadata": {
        "id": "j42qK6blN7lD"
      }
    },
    {
      "cell_type": "markdown",
      "source": [
        "expresamos la señal de una forma mas concreta y queda de la siguiente manera\n",
        "\n",
        "$$x(t)=\\frac{A^2}{2}+\\frac{A^2}{2}cos(4πf_ot)$$"
      ],
      "metadata": {
        "id": "fFeaUABtTnVf"
      }
    },
    {
      "cell_type": "markdown",
      "source": [
        "con esto vamos a hallar los coeficientes de fourier en su forma exponencial:\n",
        "\n",
        "$$\\hat{x}(t)=\\sum_{n=-N}^N c_ne^{jn\\omega_o t}$$\n",
        "\n"
      ],
      "metadata": {
        "id": "xijcbfTMV24o"
      }
    },
    {
      "cell_type": "code",
      "execution_count": null,
      "metadata": {
        "id": "d6J_D6McLTta"
      },
      "outputs": [],
      "source": [
        "# Para graficar\n",
        "import matplotlib as mpl\n",
        "import matplotlib.pyplot as plt\n",
        "import numpy as np\n",
        "import warnings\n",
        "warnings.filterwarnings(\"ignore\")\n",
        "\n",
        "mpl.rc('axes', labelsize=14)\n",
        "mpl.rc('xtick', labelsize=12)\n",
        "mpl.rc('ytick', labelsize=12)\n",
        "\n",
        "A = 1 # amplitud de la señal\n",
        "T = 5 # segundos de gráfica\n",
        "Fs = 100 # frecuencia de muestreo definida\n",
        "tv = np.arange(-T/2,T/2,1/Fs) #vector de tiempo generado\n",
        "Nm = len(tv) #numero de muestras requeridas\n",
        "\n",
        "#se crea la señal A y -A concatenando\n",
        "xo = np.concatenate((A*np.ones(int(Nm/2)), -A*np.ones(int(Nm/2))), axis=0)\n",
        "#graficar señal original\n",
        "plt.plot(tv,xo,'r',linewidth=4)\n",
        "plt.grid()\n",
        "plt.xlabel(\"t[s]\",fontsize = 14)\n",
        "plt.ylabel(\"x(t)\",fontsize = 14)\n",
        "plt.show()"
      ]
    }
  ]
}