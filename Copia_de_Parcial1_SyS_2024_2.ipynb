{
  "nbformat": 4,
  "nbformat_minor": 0,
  "metadata": {
    "colab": {
      "private_outputs": true,
      "provenance": [],
      "include_colab_link": true
    },
    "kernelspec": {
      "name": "python3",
      "display_name": "Python 3"
    },
    "language_info": {
      "name": "python"
    }
  },
  "cells": [
    {
      "cell_type": "markdown",
      "metadata": {
        "id": "view-in-github",
        "colab_type": "text"
      },
      "source": [
        "<a href=\"https://colab.research.google.com/github/juan-holguin/Senales_Sistemas/blob/main/Copia_de_Parcial1_SyS_2024_2.ipynb\" target=\"_parent\"><img src=\"https://colab.research.google.com/assets/colab-badge.svg\" alt=\"Open In Colab\"/></a>"
      ]
    },
    {
      "cell_type": "markdown",
      "source": [
        "# Parcial 1: Señales y Sistemas 2024-II\n",
        "\n",
        " ## Profesor: Andrés Marino Álvarez Meza, Ph.D.\n",
        "\n",
        "\n",
        "## Departamento de Ingeniería Eléctrica, Electrónica, y Computación\n",
        "## Universidad Nacional de Colombia - sede Manizales"
      ],
      "metadata": {
        "id": "1fWMHXCqNtQw"
      }
    },
    {
      "cell_type": "markdown",
      "source": [
        "# Instrucciones\n",
        "\n",
        "-- Para recibir el crédito total, sus respuestas deben estar justificadas de manera clara, detallada y concreta, mostrando los procedimientos y razonamientos paso a paso.\n",
        "\n",
        "-- Está permitido el uso de herramientas de inteligencia artificial (IA). Si las utiliza, por favor declare explícitamente cómo fueron empleadas en la resolución de cada pregunta. Incluya los prompts (consultas) y las iteraciones realizadas con las IA durante el desarrollo del parcial.\n",
        "\n",
        "-- La entrega del parcial debe realizarse antes de las 23:59 del 5 de diciembre de 2024 al correo electrónico amalvarezme@unal.edu.co mediante un enlace de GitHub.\n",
        "\n",
        "-- Los códigos deben estar debidamente comentados en las celdas correspondientes y explicados en celdas de texto (markdown). Los códigos que no incluyan comentarios ni discusiones no serán considerados en la evaluación final."
      ],
      "metadata": {
        "id": "15xl7tLEP6YA"
      }
    },
    {
      "cell_type": "markdown",
      "source": [
        "# Pregunta 1 (valor 2.5 puntos)\n",
        "\n",
        "Cuál es la señal obtenida en tiempo discreto al utilizar un conversor análogo digital de 5 bits con frecuencia de muestreo de $5kHz$, aplicado a la señal continua $x(t) = 0.3 \\cos(1000\\pi t-\\pi/4) +\n",
        "0.6 \\sin(2000\\pi t) + 0.1 \\cos(11000\\pi t-\\pi)$?. Realizar la simulación del proceso de digitalización incluyendo al menos 3 ciclos de la señal $x(t)$.\n",
        "\n",
        "En caso de que la digitalización no sea apropiada, diseñe e implemente un conversor adecuado para la señal estudiada. El convesor debe permitir configurar la cantidad de bits y la frecuencia de muestreo, indicándole al usuario si dicha frecuencia es apropiada o no, y graficar la señal continua, discreta y digital."
      ],
      "metadata": {
        "id": "jmI0zzVMRLNx"
      }
    },
    {
      "cell_type": "code",
      "source": [
        "import numpy as np # importamos la libreria numpy para los calculos y creacion de señales\n",
        "import matplotlib.pyplot as plt # importamos la libreria matpltlib para obtener las graficas\n",
        "\n",
        "A_1 = 0.3\n",
        "A_2 = 0.6\n",
        "A_3 = 0.1\n",
        "# identificamos las amplitudes de cada señal\n",
        "\n",
        "W_1 = 1000*np.pi\n",
        "W_2 = 2000*np.pi\n",
        "W_3 = 11000*np.pi\n",
        "\n",
        "#identificamos cada uno de los omegas de la señal\n",
        "\n",
        "Phase_1 = -np.pi/4\n",
        "Phase_2 = 0\n",
        "Phase_3 = -np.pi\n",
        "\n",
        "#identificamos cada uno de los Phi (fase)\n",
        "\n",
        "T_1 = 2*np.pi/W_1\n",
        "T_2 = 2*np.pi/W_2\n",
        "T_3 = 2*np.pi/W_3\n",
        "\n",
        "#identificamos cada uno de los T (periodos)\n",
        "\n",
        "F_1 = W_1/(2*np.pi)\n",
        "F_2 = W_2/(2*np.pi)\n",
        "F_3 = W_3/(2*np.pi)\n",
        "\n",
        "#identificamos cada uno de los F (frecuencias)\n",
        "\n",
        "T_max = 1 / min(F_1, F_2, F_3) # periodo del componente de menor frecuencia (tomada de chat gpt)\n",
        "\n",
        "Fs = 50000 #frecuencia de muestreo\n",
        "Ts = 1/Fs # periodo de muestreo\n",
        "ti = 0*Ts  # tiempo inicial\n",
        "tf = 3*T_max # tiempo final\n",
        "tv = np.arange(ti,tf,1/Fs) # vector de datos de tiempo\n",
        "\n",
        "x = A_1*np.cos(W_1*tv+Phase_1) + A_2*np.sin(W_2*tv+Phase_2) + A_3*np.cos(W_3*tv+Phase_3)\n",
        "\n",
        "print(f'F_1={F_1} Hz F_2={F_2} F_3={F_3}Hz Fs={Fs} Hz')\n",
        "\n",
        "plt.plot(tv,x, 'b', label='$X(t)$')\n",
        "plt.xlabel('tiempo [s]')\n",
        "plt.ylabel('$X(t)$')\n",
        "plt.legend()\n",
        "plt.show()\n"
      ],
      "metadata": {
        "id": "BWAbc5FRIY2I"
      },
      "execution_count": null,
      "outputs": []
    },
    {
      "cell_type": "code",
      "source": [
        "def my_ceropen(x,ymin = -5, ymax = 5): # funcion de cero y pendiente (tomada de ejercicios anteriores)\n",
        "\n",
        "  xmax = max(x) # x.max()\n",
        "  xmin = min(x) # x.min()\n",
        "  m = (ymax - ymin)/(xmax - xmin)\n",
        "  c = ymin - m*xmin\n",
        "  yv = m*x + c\n",
        "  return yv\n",
        "xcp = my_ceropen(x,ymin=-3.3,ymax=3.3) #el rango del conversor A/D va a ser de -3.3 a 3.3\n",
        "plt.plot(xcp)\n",
        "plt.xlabel('tiempo [s]')\n",
        "plt.ylabel('$A\\cos[\\omega t_k]$')\n",
        "plt.show()\n"
      ],
      "metadata": {
        "id": "FLQCksrcSDjG"
      },
      "execution_count": null,
      "outputs": []
    },
    {
      "cell_type": "code",
      "source": [
        "from scipy.spatial.distance import cdist\n",
        "\n",
        "nbits = 5\n",
        "rmin = -3.3\n",
        "rmax = 3.3\n",
        "ve = np.linspace(rmin,rmax,2**nbits) # (rmax-rmin)/(2^#bits - 1) -> si se quiere incluir rmin y rmax\n",
        "\n",
        "#distancias y cero pendiente a vector cuantizacion\n",
        "d = cdist(xcp.reshape(-1,1),ve.reshape(-1,1)) #se utiliza reshape(-1,1) para generar vectores columna como lo pide cdist\n",
        "d.shape\n",
        "ve"
      ],
      "metadata": {
        "id": "gJSRGgi5W-Vo"
      },
      "execution_count": null,
      "outputs": []
    },
    {
      "cell_type": "code",
      "source": [
        "def my_cuantizador(yn, vq) : # funcion de cuantizador (tomada de un ejercicio anterior)\n",
        "  Ne = vq.shape[0] #tamaño vector de estados\n",
        "  dn = cdist(yn.reshape(-1,1),vq.reshape(-1,1))#distancia yn a vector estados, reshape(-1,1) asegura vectores columna para poder utilizar cdist\n",
        "  ind = np.argmin(dn) #posición distancia min\n",
        "  return vq[ind]"
      ],
      "metadata": {
        "id": "rs3B6gwoZxrV"
      },
      "execution_count": null,
      "outputs": []
    },
    {
      "cell_type": "code",
      "source": [
        "ind = np.argmin(d,axis=1) #el parámetro axis = 1 indica que busca la posición a lo largo de las columnas del elemento más pequeño en cada fila\n",
        "ind"
      ],
      "metadata": {
        "id": "vPD7mWQ3ZaSs"
      },
      "execution_count": null,
      "outputs": []
    },
    {
      "cell_type": "code",
      "source": [
        "for i in range(xcp.shape[0]):\n",
        "   if i==0: #primera muestra\n",
        "     yq = my_cuantizador(xcp[i],ve)\n",
        "   else:\n",
        "     yq = np.append(yq,my_cuantizador(xcp[i],ve)) #apilar datos cuantizando si i>0"
      ],
      "metadata": {
        "id": "gIa8kne5d5pp"
      },
      "execution_count": null,
      "outputs": []
    },
    {
      "cell_type": "code",
      "source": [
        "plt.plot(tv,xcp,c='b', label='xcp_cont')#cs continua\n",
        "\n",
        "plt.stem(tv,xcp, label='xcp_dis')#cs discreta\n",
        "\n",
        "#estados de cuantización\n",
        "\n",
        "for v in ve:\n",
        "  plt.plot(tv,v*np.ones(len(tv)))\n",
        "\n",
        "# graficar señal Digital (discreta + cuantizada)\n",
        "\n",
        "plt.plot(tv,yq,c='y',marker='o',label='xcp_cuant', linewidth=2)\n",
        "\n",
        "plt.legend()\n",
        "plt.grid()\n",
        "plt.xlabel('t')\n",
        "plt.ylabel('Amplitud')\n",
        "plt.show()"
      ],
      "metadata": {
        "id": "3jQMnhiSeDmA"
      },
      "execution_count": null,
      "outputs": []
    },
    {
      "cell_type": "markdown",
      "source": [
        "# Pregunta 2 (valor 2.5 puntos)\n",
        "\n",
        "Se dispone de un sistema modelado como una \"caja negra\" (ver celdas de código). Su tarea es analizar y comprobar mediante simulaciones si el sistema cumple con las propiedades de linealidad e invariancia en el tiempo. En caso de que el sistema sea lineal e invariante con el tiempo, determine su respuesta al impulso y utilice esta respuesta para calcular la salida del sistema ante la siguiente señal:\n",
        "\n",
        "$x[n] = \\sin[100 \\pi n ] + \\sin[600 \\pi n]$"
      ],
      "metadata": {
        "id": "5Za-WbLpSele"
      }
    },
    {
      "cell_type": "code",
      "source": [
        "# cargar sistema\n",
        "FILEID = \"1J9rhh0wWHZSBd8XmWGt1ZpCsMDuoUFmm\"\n",
        "!wget --load-cookies /tmp/cookies.txt \"https://docs.google.com/uc?export=download&confirm=$(wget --quiet --save-cookies /tmp/cookies.txt --keep-session-cookies --no-check-certificate 'https://docs.google.com/uc?export=download&id='$FILEID -O- | sed -rn 's/.*confirm=([0-9A-Za-z_]+).*/\\1\\n/p')&id=\"$FILEID -O P1_model.zip && rm -rf /tmp/cookies.txt\n",
        "!unzip -o P1_model.zip\n",
        "!dir"
      ],
      "metadata": {
        "id": "6yJMMFK6zo5K"
      },
      "execution_count": null,
      "outputs": []
    },
    {
      "cell_type": "code",
      "source": [
        "import numpy as np\n",
        "import matplotlib.pyplot as plt\n",
        "from scipy.signal import firwin, freqz, lfilter, filtfilt\n",
        "\n",
        "class My_System():\n",
        "    def __init__(self, fs=1000, cutoff=100, numtaps = 10):\n",
        "        self.fs = fs\n",
        "        self.cutoff = 100\n",
        "        self.numtaps = numtaps\n",
        "    def create_(self):\n",
        "    # Diseño del filtro FIR pasa baja\n",
        "        self.fir_coeff = firwin(self.numtaps, self.cutoff, fs=self.fs, pass_zero='lowpass')\n",
        "\n",
        "    def predict(self,signal):\n",
        "       return lfilter(self.fir_coeff, 1.0, signal)\n",
        "\n",
        "    def plot_(self):\n",
        "      # Visualización de la respuesta en frecuencia\n",
        "      w, h = freqz(self.fir_coeff, worN=8000, fs=self.fs)\n",
        "      plt.figure()\n",
        "      plt.plot(w, 20 * np.log10(abs(h)), 'b')\n",
        "      plt.title('Respuesta en Frecuencia del Filtro FIR Pasa Baja')\n",
        "      plt.xlabel('Frecuencia (Hz)')\n",
        "      plt.ylabel('Magnitud (dB)')\n",
        "      plt.grid()\n",
        "      plt.show()"
      ],
      "metadata": {
        "id": "BMMCjvSuhdv_"
      },
      "execution_count": null,
      "outputs": []
    },
    {
      "cell_type": "code",
      "source": [
        "import numpy as np\n",
        "import matplotlib.pyplot as plt\n",
        "import joblib\n",
        "from P1_model import system_\n",
        "from scipy.signal import firwin, freqz, lfilter, filtfilt\n",
        "\n",
        "#sistema pregunta 2\n",
        "my_system = system_.My_System()\n",
        "my_system.create_()\n",
        "fs = my_system.fs #frecuencia de muestreo\n",
        "t = np.arange(-0.01, 0.02, 1/fs)  # Tiempo\n",
        "signal_u = np.heaviside(t,1) # función heaviside\n",
        "y_u = my_system.predict(signal_u)\n",
        "\n",
        "\n",
        "# Visualización de las señales\n",
        "fig, axs = plt.subplots(2,1)\n",
        "axs[0].stem(t, signal_u, label='Señal de entrada')\n",
        "axs[0].set_xlabel('Tiempo (s)')\n",
        "axs[0].set_ylabel('Amplitud')\n",
        "axs[0].legend()\n",
        "axs[0].grid()\n",
        "axs[1].stem(t,y_u, label='Señal salida')\n",
        "axs[1].set_xlabel('Tiempo (s)')\n",
        "axs[1].set_ylabel('Amplitud')\n",
        "axs[1].legend()\n",
        "axs[1].grid()\n",
        "plt.tight_layout()\n",
        "plt.show()"
      ],
      "metadata": {
        "id": "nUX7Vr1fTUYW"
      },
      "execution_count": null,
      "outputs": []
    },
    {
      "cell_type": "code",
      "source": [
        "# prueba de la propiedad de superposicion\n",
        "n = np.arange(0, 100)\n",
        "x1 = np.sin(10*np.pi*t)\n",
        "x2 = np.sin(60*np.pi*t)\n",
        "y1 = my_system.predict(x1)\n",
        "y2 = my_system.predict(x2)\n",
        "x_sum = x1 + x2\n",
        "y_sum = my_system.predict(x_sum)\n",
        "# podemos decir que cumple con la propiedad de superposicion\n",
        "\n",
        "fig, axs = plt.subplots(2,1)\n",
        "axs[0].stem(t, y_sum, label='Señal de entrada')\n",
        "axs[0].set_xlabel('Tiempo (s)')\n",
        "axs[0].set_ylabel('Amplitud')\n",
        "axs[0].legend()\n",
        "axs[0].grid()\n",
        "axs[1].stem(t,y1 + y2, label='Señal salida')\n",
        "axs[1].set_xlabel('Tiempo (s)')\n",
        "axs[1].set_ylabel('Amplitud')\n",
        "axs[1].legend()\n",
        "axs[1].grid()\n",
        "plt.tight_layout()\n",
        "plt.show()"
      ],
      "metadata": {
        "id": "Xv-dv4PilYwC"
      },
      "execution_count": null,
      "outputs": []
    },
    {
      "cell_type": "code",
      "source": [
        "# prueba de la propiedad de homogeneidad\n",
        "a = 4 # escalar\n",
        "y3 = my_system.predict(a*x1)\n",
        "y4 = a*y1\n",
        "# podemos decir que cumple con la propiedad de homogeneidad\n",
        "\n",
        "fig, axs = plt.subplots(2,1)\n",
        "axs[0].stem(t, y3, label='Señal de entrada')\n",
        "axs[0].set_xlabel('Tiempo (s)')\n",
        "axs[0].set_ylabel('Amplitud')\n",
        "axs[0].legend()\n",
        "axs[0].grid()\n",
        "axs[1].stem(t,y4, label='Señal salida')\n",
        "axs[1].set_xlabel('Tiempo (s)')\n",
        "axs[1].set_ylabel('Amplitud')\n",
        "axs[1].legend()\n",
        "axs[1].grid()\n",
        "plt.tight_layout()\n",
        "plt.show()"
      ],
      "metadata": {
        "id": "4sR1UVQ7oBCH"
      },
      "execution_count": null,
      "outputs": []
    },
    {
      "cell_type": "code",
      "source": [
        "# prueba de que es invariante en el tiempo\n",
        "s = np.cos(600*np.pi*t)\n",
        "y_original = my_system.predict(s)\n",
        "desp = 10\n",
        "s_desp = np.roll(s, desp)\n",
        "y_desp = my_system.predict(s_desp)\n",
        "y_desp_original = np.roll(y_original, desp) # np.roll es el encargado de hacer el desplazamiento en un array\n",
        "# podemos decir que es invariante en el tiempo\n",
        "\n",
        "fig, axs = plt.subplots(2,1)\n",
        "axs[0].stem(t, y_desp, label='Señal de entrada')\n",
        "axs[0].set_xlabel('Tiempo (s)')\n",
        "axs[0].set_ylabel('Amplitud')\n",
        "axs[0].legend()\n",
        "axs[0].grid()\n",
        "axs[1].stem(t,y_desp_original, label='Señal desplazada')\n",
        "axs[1].set_xlabel('Tiempo (s)')\n",
        "axs[1].set_ylabel('Amplitud')\n",
        "axs[1].legend()\n",
        "axs[1].grid()\n",
        "plt.tight_layout()\n",
        "plt.show()"
      ],
      "metadata": {
        "id": "XrbQwRK39aI0"
      },
      "execution_count": null,
      "outputs": []
    },
    {
      "cell_type": "code",
      "source": [
        "N = 50 # numero de muestras\n",
        "delta = np.zeros(N)\n",
        "delta[0] = 1 # impulso unitario\n",
        "\n",
        "h = my_system.predict(delta)\n",
        "\n",
        "# señal de entrada\n",
        "s_in = np.sin(100*np.pi*n/fs) + np.sin(600*np.pi*n/fs)\n",
        "\n",
        "s_conv = np.convolve(s_in, h, mode='same') # convolucion\n",
        "\n",
        "fig, axs = plt.subplots(2,1)\n",
        "axs[0].stem(n, s_in, label='Señal de entrada')\n",
        "axs[0].set_xlabel('Tiempo (s)')\n",
        "axs[0].set_ylabel('Amplitud')\n",
        "axs[0].legend()\n",
        "axs[0].grid()\n",
        "axs[1].stem(n, s_conv, label='Convolucion')\n",
        "axs[1].set_xlabel('Tiempo (s)')\n",
        "axs[1].set_ylabel('Amplitud')\n",
        "axs[1].legend()\n",
        "axs[1].grid()\n",
        "plt.tight_layout()\n",
        "plt.show()\n"
      ],
      "metadata": {
        "id": "lhLyzlJa9x6C"
      },
      "execution_count": null,
      "outputs": []
    }
  ]
}